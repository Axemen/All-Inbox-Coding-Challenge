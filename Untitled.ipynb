{
 "cells": [
  {
   "cell_type": "code",
   "execution_count": 52,
   "metadata": {},
   "outputs": [],
   "source": [
    "import mailbox"
   ]
  },
  {
   "cell_type": "code",
   "execution_count": 109,
   "metadata": {},
   "outputs": [],
   "source": [
    "mbox = mailbox.mbox('mbox_challenge_q1/mbox_example')\n",
    "output_mbox = mailbox.mbox('output_mbox')\n",
    "output_mbox.lock()"
   ]
  },
  {
   "cell_type": "code",
   "execution_count": 111,
   "metadata": {},
   "outputs": [],
   "source": [
    "for message in mbox:\n",
    "    text = message.get_payload()\n",
    "    text_list = text.split('\\n')\n",
    "    reversed_text_list = text_list[::-1]\n",
    "    \n",
    "    msg = mailbox.mboxMessage()\n",
    "    msg.set_unixfrom('author Sat Feb  7 00:00:00 2001')\n",
    "    msg['From'] = message['From']\n",
    "    msg['To'] = message['To']\n",
    "    msg['Subject'] = message['Subject']\n",
    "    msg.set_payload('\\n'.join(reversed_text_list))\n",
    "    output_mbox.add(msg)"
   ]
  },
  {
   "cell_type": "code",
   "execution_count": 120,
   "metadata": {},
   "outputs": [],
   "source": [
    "mbox[0].get_unixfrom()"
   ]
  },
  {
   "cell_type": "code",
   "execution_count": null,
   "metadata": {},
   "outputs": [],
   "source": []
  }
 ],
 "metadata": {
  "kernelspec": {
   "display_name": "Python 3",
   "language": "python",
   "name": "python3"
  },
  "language_info": {
   "codemirror_mode": {
    "name": "ipython",
    "version": 3
   },
   "file_extension": ".py",
   "mimetype": "text/x-python",
   "name": "python",
   "nbconvert_exporter": "python",
   "pygments_lexer": "ipython3",
   "version": "3.7.0"
  }
 },
 "nbformat": 4,
 "nbformat_minor": 2
}
